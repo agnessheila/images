import cv2
import matplotlib.pyplot as plt

!git clone https://github.com/mohanrajmit/Image-Read.git

image = cv2.imread("Image-Read/1.jpg")
h=image.shape[0]
w=image.shape[1]
c=image.shape[2]
print(h,w,c)

(b,g,r) = image[10,20]
print(b,g,r)

plt.imshow(image)
